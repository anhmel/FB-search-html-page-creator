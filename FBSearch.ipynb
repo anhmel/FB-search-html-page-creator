{
  "nbformat": 4,
  "nbformat_minor": 0,
  "metadata": {
    "colab": {
      "name": "FBSearch",
      "provenance": [],
      "private_outputs": true,
      "collapsed_sections": [],
      "toc_visible": true,
      "include_colab_link": true
    },
    "kernelspec": {
      "name": "python3",
      "display_name": "Python 3"
    }
  },
  "cells": [
    {
      "cell_type": "markdown",
      "metadata": {
        "id": "view-in-github",
        "colab_type": "text"
      },
      "source": [
        "<a href=\"https://colab.research.google.com/github/hlecuanda/FB-search-html-page-creator/blob/master/FBSearch.ipynb\" target=\"_parent\"><img src=\"https://colab.research.google.com/assets/colab-badge.svg\" alt=\"Open In Colab\"/></a>"
      ]
    },
    {
      "cell_type": "markdown",
      "metadata": {
        "id": "FynYtuHk_YFq",
        "colab_type": "text"
      },
      "source": [
        "# Facebook Search Notebook\n"
      ]
    },
    {
      "cell_type": "markdown",
      "metadata": {
        "id": "v3M1zLZFPgD8",
        "colab_type": "text"
      },
      "source": [
        "## Release Notes\n"
      ]
    },
    {
      "cell_type": "markdown",
      "metadata": {
        "id": "ZVtEk3cHQIg7",
        "colab_type": "text"
      },
      "source": [
        "\n",
        "This is a reimplementation of @ahmel's python script using a jupyter \n",
        "notebook to streamline usage and make it more accessible to researchers\n",
        "\n",
        "The changes I've made are as follows:\n",
        "- Converting existing comments to text cells so explanations are more readable.\n",
        "- Changed some code to use ideomaticdiomatic python\n",
        "- Made everything run on python3 consistent\n",
        "- Refactored code to use Jinja2 templates instead of inlining html, which is so *php* from way back when.\n",
        "\n",
        "if you've never used a Jupyter Notebook, or used Google Collab, it's a python execution environment and virtual machine connected to your browser and Google drive. (neat huh?) \n",
        "\n",
        "Every code cell has a little \"play\" button on the upper left corner (just mouse over it), when clicked, the code on the cell will run and the output will be displayed below the cell. A lot of neat stuff can be done with Jupyter and Collab, specially explaining how code works. This is a style of programming called Literate Programming, and it is excellent for teaching and academia.\n",
        "\n",
        "Data science too.\n",
        "\n",
        "\n"
      ]
    },
    {
      "cell_type": "markdown",
      "metadata": {
        "id": "XL1vPr-nOpFq",
        "colab_type": "text"
      },
      "source": [
        "## Purpose"
      ]
    },
    {
      "cell_type": "markdown",
      "metadata": {
        "id": "UfqkLVpgQQLE",
        "colab_type": "text"
      },
      "source": [
        "This workbook reads a **json search result file**, sorts results by time, creates links to posts and puts the links together with corresponding messages and images in an html file. The notebook then displays the results as a webpage as an output, or, if so selected, in a new tab on your current browser.\n"
      ]
    },
    {
      "cell_type": "markdown",
      "metadata": {
        "id": "Epv04HQzO3vT",
        "colab_type": "text"
      },
      "source": [
        "## Prerequisites\n",
        "\n",
        "First we need to make sure all dependencies are installed. just run the cell below and if any dependencies are missing they will be installed"
      ]
    },
    {
      "cell_type": "code",
      "metadata": {
        "id": "l86kj1leNXaB",
        "colab_type": "code",
        "colab": {}
      },
      "source": [
        "%%bash\n",
        "\n",
        "# install jinja2 templating engine. \n",
        "pip install --upgrade pip\n",
        "pip install jinja2\n",
        "pip install requests\n",
        "\n",
        "# Create a subdirectory to hold template files\n",
        "export TDIR=\"template\" \n",
        "test -d \"$TDIR\" && echo 'templates dir ok' || mkdir -p \"$TDIR\""
      ],
      "execution_count": 0,
      "outputs": []
    },
    {
      "cell_type": "markdown",
      "metadata": {
        "id": "Dz6v86xWXOyc",
        "colab_type": "text"
      },
      "source": [
        "Now, we set up a couple of nice pretty printers, makes development oh so easier! specially analyzing FB's JSON objects which have a tendency to unnecesary verbosity\n",
        "\n"
      ]
    },
    {
      "cell_type": "code",
      "metadata": {
        "id": "ZjTuLPONVwz2",
        "colab_type": "code",
        "colab": {}
      },
      "source": [
        "import pprint\n",
        "\n",
        "# Standard pretty printer\n",
        "pp = pprint.PrettyPrinter()\n",
        "\n",
        "# 1 and 2 level pretty printes, so we can analyze objects easely\n",
        "p1 = pprint.PrettyPrinter(depth=1)\n",
        "p2 = pprint.PrettyPrinter(depth=2)\n",
        "\n",
        "pp"
      ],
      "execution_count": 0,
      "outputs": []
    },
    {
      "cell_type": "markdown",
      "metadata": {
        "id": "xB3igLfcNUXF",
        "colab_type": "text"
      },
      "source": [
        "## How do i get this **json search results file** you speak of?\n",
        "\n",
        "there used to be a nice detailed explanation here, but i realised this thread is full of greedy no-sharers, shady accounts that have no public repos (and whom i suspect to be the same guy pushing devs to solve his problems for free), a bunch of freeloaders who are probably interested only in getting pics their GF 'liked' so they can make a fuss about it, and whatnot. \n",
        "\n",
        "Except for a few real devs here (v.gr @sowdust) i don't really think any other people in this thread are even interested in coding, much less doing serious OSINT research. \n",
        "\n",
        "Having said that, you can get the search result json using one of the APIs mentioned in this thread, which turns out to be just a repackaged FB endpoint. I wouldn't use it though, since it's doing a bunch of stuff loading frames and Facebook's arbiter and I wouldn't be surprised if it was stealing access tokens from those who use it. (FB security is and always has been a joke)\n",
        "\n",
        "Since the source is not being shared, i therefore deem it untrustworthy, and to be used at your own peril.\n",
        "\n",
        "This workbook's purpose is only to show it's not really that hard to do things right."
      ]
    },
    {
      "cell_type": "code",
      "metadata": {
        "id": "mAj_Al6UI3Bq",
        "colab_type": "code",
        "colab": {}
      },
      "source": [
        "import json\n",
        "\n",
        "from google.colab import files\n",
        "\n",
        "uploaded = files.upload()\n",
        "\n",
        "for fn in uploaded.keys():\n",
        "  print('User uploaded file \"{name}\" with length {length} bytes'.format(\n",
        "      name=fn, length=len(uploaded[fn])))\n",
        "\n",
        "with open(fn,'r', encoding='utf-8') as f: \n",
        "    content = json.loads(f.read())\n",
        "\n",
        "print('\\nJSON from {}:'.format(fn))\n",
        "p2.pprint(content)"
      ],
      "execution_count": 0,
      "outputs": []
    },
    {
      "cell_type": "markdown",
      "metadata": {
        "id": "x-Ax6OmzbpuI",
        "colab_type": "text"
      },
      "source": [
        "Alternatively, we may get the facebook data via a http request.  Because this is an educational Notebook, we obtain the data from a mock request to the github repo of this project. If you uploaded a file using the previous cell, do not run this cell, just skip it and run the next cell Titled \"[HTML Template][1]\"\n",
        "\n",
        "[1]:https://colab.research.google.com/drive/1ujtQrGgApGemlyUzDojiETWiIWHBq2ps#scrollTo=xcXvTQKBTjzg&line=4&uniqifier=1"
      ]
    },
    {
      "cell_type": "code",
      "metadata": {
        "id": "512oRz0IkYNm",
        "colab_type": "code",
        "colab": {}
      },
      "source": [
        "import requests\n",
        "\n",
        "dataurl = 'https://raw.githubusercontent.com/hlecuanda/'\n",
        "dataurl += 'FB-search-html-page-creator/master/testdata/graphSearch.json'\n",
        "response = requests.get(dataurl)\n",
        "\n",
        "content = response.json()\n",
        "\n",
        "p2.pprint(content)"
      ],
      "execution_count": 0,
      "outputs": []
    },
    {
      "cell_type": "markdown",
      "metadata": {
        "id": "NQ5_CxdbmcMP",
        "colab_type": "text"
      },
      "source": [
        "## HTML template\n",
        "\n",
        "In order to avoid an ugly mess of inlined HTML, which makes for unreadable code and stopped being cool sometime after php3 was released back in 1998, we prepare a nice [Jinja2][2] template to hold the results of our data processing\n",
        "\n",
        "[2]:https://jinja.palletsprojects.com/en/2.10.x/"
      ]
    },
    {
      "cell_type": "code",
      "metadata": {
        "id": "xcXvTQKBTjzg",
        "colab_type": "code",
        "colab": {}
      },
      "source": [
        "%%writefile template/SearchResults.html\n",
        "<!DOCTYPE html>\n",
        "<html>\n",
        "    <head>\n",
        "        <title>Ordered search Results</title>\n",
        "    </head>\n",
        "    <body>\n",
        "        <h2> Ordered Search Results </h2>\n",
        "        Generated on {{ timestamp }} \n",
        "        </hr>\n",
        "        <ul>\n",
        "            {% for item in items %}\n",
        "                <li>\n",
        "                    {{ item.creation_time|tsformat }}:\n",
        "                    <a href=\"https://fb.me/{{ item.actor.id }}/posts/{{ item.id }}\">\n",
        "                        {{item.id}}\n",
        "                    </a>:\n",
        "                    {{ item.message }}</br>\n",
        "                    {% if item.image %}\n",
        "                        <img src=\"{{ item.image }}\" width=\"200\"/>\n",
        "                    {% endif %}\n",
        "                </li>\n",
        "            {% endfor %}\n",
        "        </ul>\n",
        "    </body>\n",
        "</html>"
      ],
      "execution_count": 0,
      "outputs": []
    },
    {
      "cell_type": "markdown",
      "metadata": {
        "id": "RjBV8iqAREZf",
        "colab_type": "text"
      },
      "source": [
        "## Processing\n",
        "\n",
        "First, check if `success` is one of the first level items on our retrieved JSON. if so, we'll print how many items in the `data` item, then sort the `result` item of the `data` item by `creation_time` as `sorted_dataset`, and pretty print the first item so we have an idea of what is available on each item.\n",
        "\n",
        "If this cell prints an error, your json data is no good."
      ]
    },
    {
      "cell_type": "code",
      "metadata": {
        "id": "AA-uQIBIKBMR",
        "colab_type": "code",
        "colab": {}
      },
      "source": [
        "if 'success' in content.keys():                    \n",
        "    print('{} items in dataset.\\n'.format(len(content['data']['result'])))\n",
        "\n",
        "    unsorted_dataset = content['data']['result']\n",
        "    sorted_dataset = []\n",
        "\n",
        "    for item in sorted(unsorted_dataset, \n",
        "            key= lambda unsorted_dataset : unsorted_dataset['creation_time'],\n",
        "            reverse=True): \n",
        "        sorted_dataset.append(item)\n",
        "\n",
        "    p2.pprint(sorted_dataset[0])\n",
        "\n",
        "else:\n",
        "    print('Error: check your JSON')\n"
      ],
      "execution_count": 0,
      "outputs": []
    },
    {
      "cell_type": "markdown",
      "metadata": {
        "id": "9yhjRHNUQO5-",
        "colab_type": "text"
      },
      "source": [
        "Finally, print our data, by rendering the template using `sorted_dataset` as source data."
      ]
    },
    {
      "cell_type": "code",
      "metadata": {
        "id": "LXU02Wml9-Y6",
        "colab_type": "code",
        "colab": {}
      },
      "source": [
        "import datetime\n",
        "from IPython.display import HTML\n",
        "from jinja2 import Environment, FileSystemLoader, select_autoescape\n",
        "\n",
        "env = Environment(\n",
        "    loader=FileSystemLoader('./template/'),\n",
        "    autoescape=select_autoescape(['html', 'xml'])\n",
        ")\n",
        "\n",
        "# register a custom datetime filter to render FB timestamps as human readable\n",
        "# dates v.gr: 1562002888 = 2016-04-30 07:54:48\n",
        "\n",
        "def tsformat(timestamp):\n",
        "    ts=int(timestamp)\n",
        "    dto=datetime.datetime.utcfromtimestamp(ts)\n",
        "    return dto.strftime('%Y-%m-%d %H:%M:%S')\n",
        "\n",
        "env.filters['tsformat'] = tsformat\n",
        "\n",
        "# load our previoysly defined template\n",
        "template=env.get_template('SearchResults.html')\n",
        "\n",
        "# render the template, as HTML, and display as this cell's output\n",
        "display(HTML(template.render(items=sorted_dataset,\n",
        "                             timestamp=datetime.datetime.now())))\n"
      ],
      "execution_count": 0,
      "outputs": []
    }
  ]
}